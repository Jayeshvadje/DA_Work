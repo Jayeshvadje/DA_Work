{
 "cells": [
  {
   "cell_type": "markdown",
   "id": "29d60869",
   "metadata": {},
   "source": [
    "Write a Python program that prints \"Hello, world!\" to the console."
   ]
  },
  {
   "cell_type": "code",
   "execution_count": 3,
   "id": "e92b5c6b",
   "metadata": {},
   "outputs": [
    {
     "name": "stdout",
     "output_type": "stream",
     "text": [
      "Hello world\n"
     ]
    }
   ],
   "source": [
    "print(\"Hello world\")"
   ]
  },
  {
   "cell_type": "markdown",
   "id": "487ac5e3",
   "metadata": {},
   "source": [
    "Write a program that calculates the sum of two numbers entered by the user.\n"
   ]
  },
  {
   "cell_type": "code",
   "execution_count": 6,
   "id": "d8a93e81",
   "metadata": {},
   "outputs": [
    {
     "name": "stdout",
     "output_type": "stream",
     "text": [
      "Enter 1st number 4\n",
      "Enter 2nd number 5\n",
      "Sum of Num1 and Num2 is 9\n"
     ]
    }
   ],
   "source": [
    "Num1=int(input(\"Enter 1st number \"))\n",
    "Num2=int(input(\"Enter 2nd number \"))\n",
    "cal=Num1+Num2\n",
    "print(f\"Sum of Num1 and Num2 is {cal}\")"
   ]
  },
  {
   "cell_type": "markdown",
   "id": "39a63e56",
   "metadata": {},
   "source": [
    "Write a Python program to declare an integer variable and print its value."
   ]
  },
  {
   "cell_type": "code",
   "execution_count": 10,
   "id": "3dfe5a12",
   "metadata": {},
   "outputs": [
    {
     "name": "stdout",
     "output_type": "stream",
     "text": [
      "intiger variable is 42\n"
     ]
    },
    {
     "data": {
      "text/plain": [
       "int"
      ]
     },
     "execution_count": 10,
     "metadata": {},
     "output_type": "execute_result"
    }
   ],
   "source": [
    "A=42\n",
    "\n",
    "print(f\"intiger variable is {A}\")\n",
    "\n",
    "type(A)"
   ]
  },
  {
   "cell_type": "markdown",
   "id": "2ca9ed62",
   "metadata": {},
   "source": [
    "Create a program that declares a float variable and prints its value."
   ]
  },
  {
   "cell_type": "code",
   "execution_count": 15,
   "id": "ec6f8a2d",
   "metadata": {
    "scrolled": true
   },
   "outputs": [
    {
     "name": "stdout",
     "output_type": "stream",
     "text": [
      "<class 'float'>\n",
      "Float variable value is 56.87\n"
     ]
    }
   ],
   "source": [
    "A=56.87\n",
    "print(type(A))\n",
    "print(f\"Float variable value is {A}\")"
   ]
  },
  {
   "cell_type": "markdown",
   "id": "f3f416cb",
   "metadata": {},
   "source": [
    "Write a Python program to declare a complex variable and print its value."
   ]
  },
  {
   "cell_type": "code",
   "execution_count": 21,
   "id": "f54c56eb",
   "metadata": {},
   "outputs": [
    {
     "name": "stdout",
     "output_type": "stream",
     "text": [
      "<class 'complex'>\n",
      "Complex variable value is (4+7j)\n"
     ]
    }
   ],
   "source": [
    "A=4+7j\n",
    "print(type(A))\n",
    "print(f\"Complex variable value is {A}\")"
   ]
  },
  {
   "cell_type": "markdown",
   "id": "368bc47f",
   "metadata": {},
   "source": [
    "Create a program that takes a float number as input and prints its square."
   ]
  },
  {
   "cell_type": "code",
   "execution_count": 24,
   "id": "2c246b4c",
   "metadata": {
    "scrolled": true
   },
   "outputs": [
    {
     "name": "stdout",
     "output_type": "stream",
     "text": [
      "<class 'float'>\n",
      "2043.0400000000002\n"
     ]
    }
   ],
   "source": [
    "Num=45.2\n",
    "\n",
    "print(type(Num))\n",
    "Sqr=Num*Num\n",
    "print(Sqr)"
   ]
  },
  {
   "cell_type": "markdown",
   "id": "9d9a7c55",
   "metadata": {},
   "source": [
    "Write a program that calculates the area of a circle. The radius should be a float number input by the user."
   ]
  },
  {
   "cell_type": "code",
   "execution_count": 28,
   "id": "46d5435f",
   "metadata": {},
   "outputs": [
    {
     "name": "stdout",
     "output_type": "stream",
     "text": [
      "Enter the Radius 4.5\n",
      "Area of the circle is 63.61725123519331\n"
     ]
    }
   ],
   "source": [
    "import math\n",
    "r=float(input(\"Enter the Radius \"))\n",
    "area = math.pi*r*r\n",
    "print(f\"Area of the circle is {area}\")"
   ]
  },
  {
   "cell_type": "markdown",
   "id": "65230de2",
   "metadata": {},
   "source": [
    "Develop a program that adds two complex numbers and prints the result."
   ]
  },
  {
   "cell_type": "code",
   "execution_count": 40,
   "id": "592f3293",
   "metadata": {},
   "outputs": [
    {
     "name": "stdout",
     "output_type": "stream",
     "text": [
      "sum of two complex number is  (7+7j)\n"
     ]
    }
   ],
   "source": [
    "Num1=4+3j\n",
    "Num2=3+4j\n",
    "Sum=Num1+Num2\n",
    "print(\"sum of two complex number is \",Sum)"
   ]
  },
  {
   "cell_type": "markdown",
   "id": "4d51eccb",
   "metadata": {},
   "source": [
    "Create a program that takes two integers from the user and prints their division result as a float."
   ]
  },
  {
   "cell_type": "code",
   "execution_count": 44,
   "id": "995ec6e4",
   "metadata": {},
   "outputs": [
    {
     "name": "stdout",
     "output_type": "stream",
     "text": [
      "enter first number13\n",
      "enter Second number2\n",
      "Division of 1st and 2nd number is  6.5\n"
     ]
    }
   ],
   "source": [
    "A=int(input(\"enter first number\"))\n",
    "B=int(input(\"enter Second number\"))\n",
    "\n",
    "C=A/B\n",
    "\n",
    "print(\"Division of 1st and 2nd number is \",C)\n"
   ]
  },
  {
   "cell_type": "markdown",
   "id": "7f9cfc55",
   "metadata": {},
   "source": [
    "Write a Python program that converts a floating-point number to an integer.\n"
   ]
  },
  {
   "cell_type": "code",
   "execution_count": 61,
   "id": "5a3aca1f",
   "metadata": {},
   "outputs": [
    {
     "name": "stdout",
     "output_type": "stream",
     "text": [
      "Enter the float number6.8\n",
      "6\n"
     ]
    },
    {
     "data": {
      "text/plain": [
       "int"
      ]
     },
     "execution_count": 61,
     "metadata": {},
     "output_type": "execute_result"
    }
   ],
   "source": [
    "A=float(input(\"Enter the float number\"))\n",
    "z=int(A)\n",
    "print(z)\n",
    "type(z)"
   ]
  },
  {
   "cell_type": "markdown",
   "id": "fdb5de7e",
   "metadata": {},
   "source": [
    "Develop a program that takes a complex number as input and prints its real and imaginary parts separately."
   ]
  },
  {
   "cell_type": "code",
   "execution_count": 64,
   "id": "9ccaf677",
   "metadata": {},
   "outputs": [
    {
     "name": "stdout",
     "output_type": "stream",
     "text": [
      "enter complex number3+4j\n",
      "3.0\n",
      "4.0\n"
     ]
    }
   ],
   "source": [
    "A=input(\"enter complex number\")\n",
    "\n",
    "B=complex(A)\n",
    "\n",
    "real=B.real\n",
    "imag=B.imag\n",
    "\n",
    "print(real)\n",
    "print(imag)\n",
    "\n"
   ]
  },
  {
   "cell_type": "markdown",
   "id": "275277f8",
   "metadata": {},
   "source": [
    "Write a Python program to declare a string variable and print its value."
   ]
  },
  {
   "cell_type": "code",
   "execution_count": 70,
   "id": "a2dc6d20",
   "metadata": {},
   "outputs": [
    {
     "name": "stdout",
     "output_type": "stream",
     "text": [
      "jayesh\n"
     ]
    }
   ],
   "source": [
    "A=str(\"jayesh\")\n",
    "\n",
    "print(A)"
   ]
  },
  {
   "cell_type": "markdown",
   "id": "a18ca135",
   "metadata": {},
   "source": [
    "Create a program that asks the user to enter their name and then prints a greeting message using their name."
   ]
  },
  {
   "cell_type": "code",
   "execution_count": 72,
   "id": "9664380b",
   "metadata": {},
   "outputs": [
    {
     "name": "stdout",
     "output_type": "stream",
     "text": [
      "Enter you nameJayesh\n",
      "Welcome Jayesh\n"
     ]
    }
   ],
   "source": [
    "Name=str(input(\"Enter you name\"))\n",
    "GRT=\"Welcome \"+ Name\n",
    "print(GRT)"
   ]
  },
  {
   "cell_type": "markdown",
   "id": "e124f158",
   "metadata": {},
   "source": [
    "Write a program to concatenate two strings and print the result"
   ]
  },
  {
   "cell_type": "code",
   "execution_count": 76,
   "id": "1f144793",
   "metadata": {},
   "outputs": [
    {
     "name": "stdout",
     "output_type": "stream",
     "text": [
      "Jayeshvadje\n"
     ]
    }
   ],
   "source": [
    "Str1=\"Jayesh\"\n",
    "Str2=\"vadje\"\n",
    "STR3=Str1+Str2\n",
    "print(STR3)"
   ]
  },
  {
   "cell_type": "markdown",
   "id": "601b538a",
   "metadata": {},
   "source": [
    "Develop a program that takes a string input from the user and prints its length."
   ]
  },
  {
   "cell_type": "code",
   "execution_count": 80,
   "id": "0e9e525f",
   "metadata": {},
   "outputs": [
    {
     "name": "stdout",
     "output_type": "stream",
     "text": [
      " Enter the string  JAyesh\n",
      "6\n"
     ]
    }
   ],
   "source": [
    "A=str(input(\" Enter the string  \"))\n",
    "B=len(A)\n",
    "print(B)"
   ]
  },
  {
   "cell_type": "markdown",
   "id": "8b61dedb",
   "metadata": {},
   "source": [
    "Create a program that takes a string input from the user and converts it to uppercase."
   ]
  },
  {
   "cell_type": "code",
   "execution_count": 88,
   "id": "bd7e595c",
   "metadata": {},
   "outputs": [
    {
     "name": "stdout",
     "output_type": "stream",
     "text": [
      "Enter the string  jayesh\n"
     ]
    },
    {
     "data": {
      "text/plain": [
       "'JAYESH'"
      ]
     },
     "execution_count": 88,
     "metadata": {},
     "output_type": "execute_result"
    }
   ],
   "source": [
    "A=str(input(\"Enter the string  \"))\n",
    "B=A.upper()\n",
    "B\n"
   ]
  },
  {
   "cell_type": "markdown",
   "id": "24a18ec0",
   "metadata": {},
   "source": [
    "Develop a program that takes a string input from the user and checks if it is a palindrome."
   ]
  },
  {
   "cell_type": "code",
   "execution_count": 95,
   "id": "990b11f8",
   "metadata": {},
   "outputs": [
    {
     "name": "stdout",
     "output_type": "stream",
     "text": [
      "Enter the string  rotator\n",
      "It is Palindrome\n"
     ]
    }
   ],
   "source": [
    "A=str(input(\"Enter the string  \"))\n",
    "B=A[::-1]\n",
    "if A==B:\n",
    "    print(\"It is Palindrome\")\n",
    "else:\n",
    "    print(\"It is not Palindrome\")"
   ]
  },
  {
   "cell_type": "markdown",
   "id": "01cda099",
   "metadata": {},
   "source": [
    "Create a program that takes a sentence input from the user and prints each word in reverse order."
   ]
  },
  {
   "cell_type": "code",
   "execution_count": 98,
   "id": "db2e47dc",
   "metadata": {},
   "outputs": [
    {
     "name": "stdout",
     "output_type": "stream",
     "text": [
      "Enter the string  Jayesh\n",
      "hseyaJ\n"
     ]
    }
   ],
   "source": [
    "A=str(input(\"Enter the string  \"))\n",
    "B=A[::-1]\n",
    "print(B)"
   ]
  },
  {
   "cell_type": "markdown",
   "id": "9794f9b8",
   "metadata": {},
   "source": [
    "Write a Python program to declare a list and print its elements."
   ]
  },
  {
   "cell_type": "code",
   "execution_count": 108,
   "id": "6abc200a",
   "metadata": {},
   "outputs": [
    {
     "name": "stdout",
     "output_type": "stream",
     "text": [
      "['j', 'a', 'y', 'e', 's', 'h']\n"
     ]
    },
    {
     "data": {
      "text/plain": [
       "list"
      ]
     },
     "execution_count": 108,
     "metadata": {},
     "output_type": "execute_result"
    }
   ],
   "source": [
    "A=[\"j\",\"a\",\"y\",\"e\",\"s\",\"h\"]\n",
    "print(A)\n",
    "type(A)"
   ]
  },
  {
   "cell_type": "markdown",
   "id": "2d77e46f",
   "metadata": {},
   "source": [
    "Write a program to declare a tuple containing the days of the week and print it."
   ]
  },
  {
   "cell_type": "code",
   "execution_count": 110,
   "id": "631f8bbb",
   "metadata": {
    "scrolled": true
   },
   "outputs": [
    {
     "name": "stdout",
     "output_type": "stream",
     "text": [
      "('j', 'a', 'y', 'e', 's', 'h')\n"
     ]
    },
    {
     "data": {
      "text/plain": [
       "tuple"
      ]
     },
     "execution_count": 110,
     "metadata": {},
     "output_type": "execute_result"
    }
   ],
   "source": [
    "A=(\"j\",\"a\",\"y\",\"e\",\"s\",\"h\")\n",
    "print(A)\n",
    "type(A)"
   ]
  },
  {
   "cell_type": "code",
   "execution_count": 122,
   "id": "784999e8",
   "metadata": {},
   "outputs": [
    {
     "name": "stdout",
     "output_type": "stream",
     "text": [
      "['j', 'a', 'y', 'e', 's', 'h', 'v']\n"
     ]
    }
   ],
   "source": [
    "A=[\"j\",\"a\",\"y\",\"e\",\"s\",\"h\"]\n",
    "A.append(\"v\")\n",
    "print(A)"
   ]
  },
  {
   "cell_type": "code",
   "execution_count": 129,
   "id": "f0cc98fc",
   "metadata": {},
   "outputs": [
    {
     "data": {
      "text/plain": [
       "2"
      ]
     },
     "execution_count": 129,
     "metadata": {},
     "output_type": "execute_result"
    }
   ],
   "source": [
    "A=[\"j\",\"a\",\"y\",\"e\",\"s\",\"h\"]\n",
    "A.index(\"y\")"
   ]
  },
  {
   "cell_type": "code",
   "execution_count": 130,
   "id": "aa42d638",
   "metadata": {},
   "outputs": [
    {
     "data": {
      "text/plain": [
       "1"
      ]
     },
     "execution_count": 130,
     "metadata": {},
     "output_type": "execute_result"
    }
   ],
   "source": [
    "A=[\"j\",\"a\",\"y\",\"e\",\"s\",\"h\"]\n",
    "A.count(\"y\")"
   ]
  },
  {
   "cell_type": "code",
   "execution_count": 136,
   "id": "3670fa4c",
   "metadata": {},
   "outputs": [
    {
     "data": {
      "text/plain": [
       "['j', 'a', 'y', 'd', 'e', 's', 'h']"
      ]
     },
     "execution_count": 136,
     "metadata": {},
     "output_type": "execute_result"
    }
   ],
   "source": [
    "A=[\"j\",\"a\",\"y\",\"e\",\"s\",\"h\"]\n",
    "A.insert(3,\"d\")\n",
    "A"
   ]
  },
  {
   "cell_type": "code",
   "execution_count": 141,
   "id": "067f5924",
   "metadata": {},
   "outputs": [
    {
     "data": {
      "text/plain": [
       "['j', 'a', 'y', 'e']"
      ]
     },
     "execution_count": 141,
     "metadata": {},
     "output_type": "execute_result"
    }
   ],
   "source": [
    "A=[\"j\",\"a\",\"y\",\"e\",\"s\"]\n",
    "A.pop()\n",
    "A"
   ]
  },
  {
   "cell_type": "code",
   "execution_count": 142,
   "id": "cbe1cbbc",
   "metadata": {},
   "outputs": [
    {
     "data": {
      "text/plain": [
       "['a', 'e', 'h', 'j', 's', 'y']"
      ]
     },
     "execution_count": 142,
     "metadata": {},
     "output_type": "execute_result"
    }
   ],
   "source": [
    "A=[\"j\",\"a\",\"y\",\"e\",\"s\",\"h\"]\n",
    "A.sort()\n",
    "A"
   ]
  },
  {
   "cell_type": "code",
   "execution_count": 147,
   "id": "c242d6c9",
   "metadata": {},
   "outputs": [
    {
     "data": {
      "text/plain": [
       "{'first_name': 'Jayesh', 'middle_name': 'Ananda', 'last_name': 'vadje'}"
      ]
     },
     "execution_count": 147,
     "metadata": {},
     "output_type": "execute_result"
    }
   ],
   "source": [
    "A={\"first_name\":\"Jayesh\", \"middle_name\":\"Ananda\", \"last_name\":\"vadje\"}\n",
    "A"
   ]
  },
  {
   "cell_type": "code",
   "execution_count": 150,
   "id": "7c3e7702",
   "metadata": {},
   "outputs": [
    {
     "data": {
      "text/plain": [
       "{'first_name': 'jayesh', 'middle_name': 'Ananda', 'last_name': 'Vadje'}"
      ]
     },
     "execution_count": 150,
     "metadata": {},
     "output_type": "execute_result"
    }
   ],
   "source": [
    "Dict={}\n",
    "Dict[\"first_name\"]=\"jayesh\"\n",
    "Dict[\"middle_name\"]=\"Ananda\"\n",
    "Dict[\"last_name\"]=\"Vadje\"\n",
    "\n",
    "Dict"
   ]
  },
  {
   "cell_type": "code",
   "execution_count": null,
   "id": "cf194c43",
   "metadata": {},
   "outputs": [],
   "source": []
  }
 ],
 "metadata": {
  "kernelspec": {
   "display_name": "Python 3 (ipykernel)",
   "language": "python",
   "name": "python3"
  },
  "language_info": {
   "codemirror_mode": {
    "name": "ipython",
    "version": 3
   },
   "file_extension": ".py",
   "mimetype": "text/x-python",
   "name": "python",
   "nbconvert_exporter": "python",
   "pygments_lexer": "ipython3",
   "version": "3.9.12"
  }
 },
 "nbformat": 4,
 "nbformat_minor": 5
}
