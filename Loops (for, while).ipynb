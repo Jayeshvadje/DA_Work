{
 "cells": [
  {
   "cell_type": "markdown",
   "id": "d95b464b",
   "metadata": {},
   "source": [
    "Write a for loop that prints numbers from 1 to 10."
   ]
  },
  {
   "cell_type": "code",
   "execution_count": 19,
   "id": "c08a4136",
   "metadata": {},
   "outputs": [
    {
     "name": "stdout",
     "output_type": "stream",
     "text": [
      "1\n",
      "2\n",
      "3\n",
      "4\n",
      "5\n",
      "6\n",
      "7\n",
      "8\n",
      "9\n",
      "10\n"
     ]
    }
   ],
   "source": [
    "for i in range(1,11):\n",
    "    print(i)"
   ]
  },
  {
   "cell_type": "markdown",
   "id": "6a77d858",
   "metadata": {},
   "source": [
    "Write a for loop that prints even numbers from 2 to 20."
   ]
  },
  {
   "cell_type": "code",
   "execution_count": 20,
   "id": "6825d79d",
   "metadata": {},
   "outputs": [
    {
     "name": "stdout",
     "output_type": "stream",
     "text": [
      "2\n",
      "4\n",
      "6\n",
      "8\n",
      "10\n",
      "12\n",
      "14\n",
      "16\n",
      "18\n"
     ]
    }
   ],
   "source": [
    "for i in range(2,20,2):\n",
    "    print(i)"
   ]
  },
  {
   "cell_type": "markdown",
   "id": "41c7f75f",
   "metadata": {},
   "source": [
    "Write a for loop that iterates over a list of fruits (fruits = ['apple', 'banana', 'orange', 'grape']) and prints each fruit."
   ]
  },
  {
   "cell_type": "code",
   "execution_count": 21,
   "id": "12380023",
   "metadata": {},
   "outputs": [
    {
     "name": "stdout",
     "output_type": "stream",
     "text": [
      "apple\n",
      "banana\n",
      "orange\n",
      "grape\n"
     ]
    }
   ],
   "source": [
    "fruits = ['apple', 'banana', 'orange', 'grape']\n",
    "for fruit in fruits:\n",
    "    print(fruit)"
   ]
  },
  {
   "cell_type": "markdown",
   "id": "915fe8c0",
   "metadata": {},
   "source": [
    "Write a for loop that iterates over a string (sentence = \"Hello, World!\") and prints each character."
   ]
  },
  {
   "cell_type": "code",
   "execution_count": 23,
   "id": "f6371ace",
   "metadata": {},
   "outputs": [
    {
     "name": "stdout",
     "output_type": "stream",
     "text": [
      "H\n",
      "e\n",
      "l\n",
      "l\n",
      "o\n",
      ",\n",
      " \n",
      "W\n",
      "o\n",
      "r\n",
      "l\n",
      "d\n",
      "!\n"
     ]
    }
   ],
   "source": [
    "sentence = \"Hello, World!\"\n",
    "for sent in sentence:\n",
    "    for i in sent:\n",
    "        print(i)"
   ]
  },
  {
   "cell_type": "markdown",
   "id": "c062d9bc",
   "metadata": {},
   "source": [
    "Write a for loop that calculates the sum of numbers from 1 to 100."
   ]
  },
  {
   "cell_type": "code",
   "execution_count": 33,
   "id": "054fdf1f",
   "metadata": {},
   "outputs": [
    {
     "name": "stdout",
     "output_type": "stream",
     "text": [
      "1\n",
      "3\n",
      "6\n",
      "10\n",
      "15\n",
      "21\n",
      "28\n",
      "36\n",
      "45\n",
      "55\n",
      "66\n",
      "78\n",
      "91\n",
      "105\n",
      "120\n",
      "136\n",
      "153\n",
      "171\n",
      "190\n",
      "210\n",
      "231\n",
      "253\n",
      "276\n",
      "300\n",
      "325\n",
      "351\n",
      "378\n",
      "406\n",
      "435\n",
      "465\n",
      "496\n",
      "528\n",
      "561\n",
      "595\n",
      "630\n",
      "666\n",
      "703\n",
      "741\n",
      "780\n",
      "820\n",
      "861\n",
      "903\n",
      "946\n",
      "990\n",
      "1035\n",
      "1081\n",
      "1128\n",
      "1176\n",
      "1225\n",
      "1275\n",
      "1326\n",
      "1378\n",
      "1431\n",
      "1485\n",
      "1540\n",
      "1596\n",
      "1653\n",
      "1711\n",
      "1770\n",
      "1830\n",
      "1891\n",
      "1953\n",
      "2016\n",
      "2080\n",
      "2145\n",
      "2211\n",
      "2278\n",
      "2346\n",
      "2415\n",
      "2485\n",
      "2556\n",
      "2628\n",
      "2701\n",
      "2775\n",
      "2850\n",
      "2926\n",
      "3003\n",
      "3081\n",
      "3160\n",
      "3240\n",
      "3321\n",
      "3403\n",
      "3486\n",
      "3570\n",
      "3655\n",
      "3741\n",
      "3828\n",
      "3916\n",
      "4005\n",
      "4095\n",
      "4186\n",
      "4278\n",
      "4371\n",
      "4465\n",
      "4560\n",
      "4656\n",
      "4753\n",
      "4851\n",
      "4950\n",
      "5050\n"
     ]
    }
   ],
   "source": [
    "total_sum=0\n",
    "for i in range(1, 101):\n",
    "    total_sum+=i\n",
    "    print(total_sum)"
   ]
  },
  {
   "cell_type": "markdown",
   "id": "4d4babcc",
   "metadata": {},
   "source": [
    "Write a for loop that iterates over a list of numbers and prints each number multiplied by 2."
   ]
  },
  {
   "cell_type": "code",
   "execution_count": 36,
   "id": "601afeab",
   "metadata": {},
   "outputs": [
    {
     "name": "stdout",
     "output_type": "stream",
     "text": [
      "4\n",
      "6\n",
      "8\n",
      "10\n",
      "12\n",
      "14\n"
     ]
    }
   ],
   "source": [
    "A=[2,3,4,5,6,7]\n",
    "for i in A:\n",
    "    print(i*2)"
   ]
  },
  {
   "cell_type": "markdown",
   "id": "b5840308",
   "metadata": {},
   "source": [
    "Write a for loop that iterates over a dictionary (ages = {'Alice': 25, 'Bob': 30, 'Charlie': 35}) and prints each key-value pair."
   ]
  },
  {
   "cell_type": "code",
   "execution_count": 44,
   "id": "7150a00d",
   "metadata": {},
   "outputs": [
    {
     "name": "stdout",
     "output_type": "stream",
     "text": [
      "('Alice', 25)\n",
      "('Bob', 30)\n",
      "('Charlie', 35)\n"
     ]
    }
   ],
   "source": [
    "ages = {'Alice': 25, 'Bob': 30, 'Charlie': 35}\n",
    "for age in ages.items():\n",
    "    print(age)"
   ]
  },
  {
   "cell_type": "markdown",
   "id": "e115eb27",
   "metadata": {},
   "source": [
    "Write a for loop that iterates over a range of numbers from 10 to 1 (counting down) and prints each number."
   ]
  },
  {
   "cell_type": "code",
   "execution_count": 56,
   "id": "2830dc67",
   "metadata": {},
   "outputs": [
    {
     "name": "stdout",
     "output_type": "stream",
     "text": [
      "10\n",
      "9\n",
      "8\n",
      "7\n",
      "6\n",
      "5\n",
      "4\n",
      "3\n",
      "2\n",
      "1\n"
     ]
    }
   ],
   "source": [
    "for i in range(10,0,-1):\n",
    "    print(i)"
   ]
  },
  {
   "cell_type": "markdown",
   "id": "8c25c173",
   "metadata": {},
   "source": [
    "Write a nested for loop that prints a multiplication table for numbers from 1 to 10."
   ]
  },
  {
   "cell_type": "code",
   "execution_count": 66,
   "id": "4c82ff08",
   "metadata": {
    "scrolled": false
   },
   "outputs": [
    {
     "name": "stdout",
     "output_type": "stream",
     "text": [
      "1 X 1 = 1*1\n",
      "1 X 2 = 1*2\n",
      "1 X 3 = 1*3\n",
      "1 X 4 = 1*4\n",
      "1 X 5 = 1*5\n",
      "1 X 6 = 1*6\n",
      "1 X 7 = 1*7\n",
      "1 X 8 = 1*8\n",
      "1 X 9 = 1*9\n",
      "1 X 10 = 1*10\n",
      "\n",
      "2 X 1 = 2*1\n",
      "2 X 2 = 2*2\n",
      "2 X 3 = 2*3\n",
      "2 X 4 = 2*4\n",
      "2 X 5 = 2*5\n",
      "2 X 6 = 2*6\n",
      "2 X 7 = 2*7\n",
      "2 X 8 = 2*8\n",
      "2 X 9 = 2*9\n",
      "2 X 10 = 2*10\n",
      "\n",
      "3 X 1 = 3*1\n",
      "3 X 2 = 3*2\n",
      "3 X 3 = 3*3\n",
      "3 X 4 = 3*4\n",
      "3 X 5 = 3*5\n",
      "3 X 6 = 3*6\n",
      "3 X 7 = 3*7\n",
      "3 X 8 = 3*8\n",
      "3 X 9 = 3*9\n",
      "3 X 10 = 3*10\n",
      "\n",
      "4 X 1 = 4*1\n",
      "4 X 2 = 4*2\n",
      "4 X 3 = 4*3\n",
      "4 X 4 = 4*4\n",
      "4 X 5 = 4*5\n",
      "4 X 6 = 4*6\n",
      "4 X 7 = 4*7\n",
      "4 X 8 = 4*8\n",
      "4 X 9 = 4*9\n",
      "4 X 10 = 4*10\n",
      "\n",
      "5 X 1 = 5*1\n",
      "5 X 2 = 5*2\n",
      "5 X 3 = 5*3\n",
      "5 X 4 = 5*4\n",
      "5 X 5 = 5*5\n",
      "5 X 6 = 5*6\n",
      "5 X 7 = 5*7\n",
      "5 X 8 = 5*8\n",
      "5 X 9 = 5*9\n",
      "5 X 10 = 5*10\n",
      "\n",
      "6 X 1 = 6*1\n",
      "6 X 2 = 6*2\n",
      "6 X 3 = 6*3\n",
      "6 X 4 = 6*4\n",
      "6 X 5 = 6*5\n",
      "6 X 6 = 6*6\n",
      "6 X 7 = 6*7\n",
      "6 X 8 = 6*8\n",
      "6 X 9 = 6*9\n",
      "6 X 10 = 6*10\n",
      "\n",
      "7 X 1 = 7*1\n",
      "7 X 2 = 7*2\n",
      "7 X 3 = 7*3\n",
      "7 X 4 = 7*4\n",
      "7 X 5 = 7*5\n",
      "7 X 6 = 7*6\n",
      "7 X 7 = 7*7\n",
      "7 X 8 = 7*8\n",
      "7 X 9 = 7*9\n",
      "7 X 10 = 7*10\n",
      "\n",
      "8 X 1 = 8*1\n",
      "8 X 2 = 8*2\n",
      "8 X 3 = 8*3\n",
      "8 X 4 = 8*4\n",
      "8 X 5 = 8*5\n",
      "8 X 6 = 8*6\n",
      "8 X 7 = 8*7\n",
      "8 X 8 = 8*8\n",
      "8 X 9 = 8*9\n",
      "8 X 10 = 8*10\n",
      "\n",
      "9 X 1 = 9*1\n",
      "9 X 2 = 9*2\n",
      "9 X 3 = 9*3\n",
      "9 X 4 = 9*4\n",
      "9 X 5 = 9*5\n",
      "9 X 6 = 9*6\n",
      "9 X 7 = 9*7\n",
      "9 X 8 = 9*8\n",
      "9 X 9 = 9*9\n",
      "9 X 10 = 9*10\n",
      "\n",
      "10 X 1 = 10*1\n",
      "10 X 2 = 10*2\n",
      "10 X 3 = 10*3\n",
      "10 X 4 = 10*4\n",
      "10 X 5 = 10*5\n",
      "10 X 6 = 10*6\n",
      "10 X 7 = 10*7\n",
      "10 X 8 = 10*8\n",
      "10 X 9 = 10*9\n",
      "10 X 10 = 10*10\n",
      "\n"
     ]
    }
   ],
   "source": [
    "\n",
    "for i in range(1,11):\n",
    "    for j in range(1,11):\n",
    "        print(f\"{i} X {j} = {i}*{j}\")\n",
    "    print()"
   ]
  },
  {
   "cell_type": "markdown",
   "id": "7fe09b8a",
   "metadata": {},
   "source": [
    "Write a Python program that prints all the even numbers between 1 and 50 using a for loop."
   ]
  },
  {
   "cell_type": "code",
   "execution_count": 84,
   "id": "f4e5b374",
   "metadata": {},
   "outputs": [
    {
     "name": "stdout",
     "output_type": "stream",
     "text": [
      "2\n",
      "4\n",
      "6\n",
      "8\n",
      "10\n",
      "12\n",
      "14\n",
      "16\n",
      "18\n",
      "20\n",
      "22\n",
      "24\n",
      "26\n",
      "28\n",
      "30\n",
      "32\n",
      "34\n",
      "36\n",
      "38\n",
      "40\n",
      "42\n",
      "44\n",
      "46\n",
      "48\n",
      "50\n"
     ]
    }
   ],
   "source": [
    "for i in range (1,51):\n",
    "    if i%2==0:\n",
    "        print(i)"
   ]
  },
  {
   "cell_type": "markdown",
   "id": "3bd49883",
   "metadata": {},
   "source": []
  },
  {
   "cell_type": "code",
   "execution_count": 83,
   "id": "025663b7",
   "metadata": {},
   "outputs": [
    {
     "name": "stdout",
     "output_type": "stream",
     "text": [
      "enter the number 5\n",
      "0\n",
      "0\n",
      "2\n",
      "0\n",
      "3\n",
      "6\n",
      "0\n",
      "4\n",
      "8\n",
      "12\n"
     ]
    }
   ],
   "source": []
  },
  {
   "cell_type": "code",
   "execution_count": null,
   "id": "58c48a00",
   "metadata": {},
   "outputs": [],
   "source": []
  }
 ],
 "metadata": {
  "kernelspec": {
   "display_name": "Python 3 (ipykernel)",
   "language": "python",
   "name": "python3"
  },
  "language_info": {
   "codemirror_mode": {
    "name": "ipython",
    "version": 3
   },
   "file_extension": ".py",
   "mimetype": "text/x-python",
   "name": "python",
   "nbconvert_exporter": "python",
   "pygments_lexer": "ipython3",
   "version": "3.9.12"
  }
 },
 "nbformat": 4,
 "nbformat_minor": 5
}
